{
 "cells": [
  {
   "cell_type": "code",
   "execution_count": 7,
   "metadata": {},
   "outputs": [],
   "source": [
    "import numpy as np\n",
    "from sklearn.metrics import mean_squared_error\n",
    "import math\n",
    "import matplotlib.pyplot as plt\n",
    "import scipy.optimize\n",
    "import csv\n",
    "from sklearn.kernel_ridge import KernelRidge\n",
    "from sklearn.model_selection import KFold\n",
    "\n",
    "float_formatter = lambda x : \"%.5f\" %x\n",
    "np.set_printoptions(formatter =  {'float_kind' : float_formatter})"
   ]
  },
  {
   "cell_type": "markdown",
   "metadata": {},
   "source": [
    "# Function definitions for linear/polynomial/RBF kernels"
   ]
  },
  {
   "cell_type": "code",
   "execution_count": 8,
   "metadata": {},
   "outputs": [],
   "source": [
    "def linear_kernel2(x,xp):\n",
    "    return x.dot(xp.T)\n",
    "\n",
    "def poly_kernel2(x, xp, alpha = 1, deg = 2) :\n",
    "    return np.power(x.dot(xp.T) + alpha, deg)\n",
    "\n",
    "def RBF_kernel2(x, xp, sigma = 1) :\n",
    "    return np.exp(-(np.linalg.norm(x.T - xp.T, ord =2) ** 2)/ (2 * (sigma ** 2)))\n"
   ]
  },
  {
   "cell_type": "code",
   "execution_count": 9,
   "metadata": {},
   "outputs": [],
   "source": [
    "#regression call for kernelized ridge regression\n",
    "\n",
    "def ridge_reg(inputval,outputval,targetset,truthset,ktype,lambdavals=[],sigmavals=[],alphavals=[],polyvals=[]) :\n",
    "    '''the following function will perform kernel ridge regression with\n",
    "       respective kernel and find the one with lowest MSE'''\n",
    "    allresult = []\n",
    "    for a in lambdavals:\n",
    "        if ktype == 'linear':\n",
    "            testpred = simplekrr(inputval,outputval,targetset,ktype='linear',lambdaval=a)\n",
    "            mse = mean_squared_error(testpred,truthset)\n",
    "            allresult.append([a, mse])\n",
    "        elif ktype == 'poly':\n",
    "            for b in alphavals:\n",
    "                for c in polyvals:\n",
    "                    testpred = simplekrr(inputval,outputval,targetset,ktype='poly',lambdaval=a, alphaval=b, poly_degree=c)\n",
    "                    mse = mean_squared_error(testpred,truthset)\n",
    "                    allresult.append([a, b, c, mse])\n",
    "        elif ktype == 'RBF':\n",
    "            for b in sigmavals:\n",
    "                testpred = simplekrr(inputval,outputval,targetset,ktype='RBF',lambdaval=a,sigmaval=b)\n",
    "                mse = mean_squared_error(testpred,truthset)\n",
    "                allresult.append([a, b, mse])\n",
    "    return np.array(allresult)"
   ]
  },
  {
   "cell_type": "markdown",
   "metadata": {},
   "source": [
    "# Kernel ridge function"
   ]
  },
  {
   "cell_type": "code",
   "execution_count": 10,
   "metadata": {},
   "outputs": [],
   "source": [
    "#the proper functioning of linear/poly/RBF kernels with their specific parameters\n",
    "\n",
    "def simplekrr(inputval,outputval,targetset,ktype='poly',lambdaval=0,sigmaval=1,alphaval=1,poly_degree=2):\n",
    "    '''for polynomial kernel : alpha, degree, lambda are the important parameters\n",
    "       for linear kernel : lambda is the important parameter, for RBF kernel : sigma and lambda\n",
    "       are the important parameters. The following functions takes care of the calculations that \n",
    "       that lead to the working of the kernels. We loop through each target.'''\n",
    "    for n in targetset:\n",
    "        #print (\"calculate for target: \",n)\n",
    "        # kxT section #\n",
    "        # create x,xn arrays\n",
    "        xval = np.copy(inputval).astype(float)\n",
    "        #print(xval)\n",
    "\n",
    "        # calculate kxT for them\n",
    "        if ktype == 'poly':\n",
    "            xvaltrans = poly_kernel2(xval,n,alphaval,poly_degree)\n",
    "        elif ktype == 'linear':\n",
    "            xvaltrans = linear_kernel2(xval,n)\n",
    "        elif ktype == 'RBF':\n",
    "            xvaltrans = np.array([])\n",
    "            for idx,x in enumerate(xval):\n",
    "                xvaltrans = np.append(xvaltrans,np.array([RBF_kernel2(x,n,sigmaval)]))\n",
    "        else:\n",
    "            print('unknown kernel')\n",
    "        #print('k_x_xprime:\\n',xvaltrans)\n",
    "        \n",
    "        # (K+lambdaIN)^-1 section\n",
    "        # calculate bigK\n",
    "\n",
    "        for m in inputval:\n",
    "            #print(m)\n",
    "            SubK = np.copy(inputval).astype(float)\n",
    "            if ktype == 'poly':\n",
    "                SubKResult = poly_kernel2(SubK,m)\n",
    "            elif ktype == 'linear':\n",
    "                SubKResult = linear_kernel2(SubK,m)\n",
    "            elif ktype == 'RBF':\n",
    "                SubKResult = np.array([])\n",
    "                for idx,x in enumerate(SubK):\n",
    "                    SubKResult = np.append(SubKResult,np.array([RBF_kernel2(x,m,sigmaval)]))\n",
    "            else:\n",
    "                print('unknown kernel')\n",
    "            #print(SubKResult)\n",
    "            if 'BigK' in locals():\n",
    "                BigK = np.vstack([BigK,np.matrix(SubKResult)])\n",
    "            else:\n",
    "                BigK = np.matrix(SubKResult)\n",
    "        #print('BigK ',BigK)\n",
    "        # calculate lambdaIN\n",
    "        identmat = np.identity(inputval.shape[0])\n",
    "        lambdaIN = lambdaval*identmat\n",
    "        #print(lambdaIN)\n",
    "        if ktype == 'RBF':\n",
    "            KlambdaINinv = np.linalg.inv(BigK)\n",
    "        else:\n",
    "            KlambdaINinv = np.linalg.inv(BigK + lambdaIN)\n",
    "        #print('Klambdainv',KlambdaINinv)\n",
    "        \n",
    "        totval = xvaltrans * KlambdaINinv\n",
    "        #print(totval)\n",
    "        \n",
    "        # t section\n",
    "        tval = np.transpose(np.asmatrix(outputval))\n",
    "\n",
    "        # final calculation\n",
    "        result = xvaltrans * KlambdaINinv * tval\n",
    "        \n",
    "        del(BigK) # reset BigK for next iteration\n",
    "\n",
    "        #print (\"result is \",result.item(0))\n",
    "        \n",
    "        # append result to return value\n",
    "        if 'retval' in locals():\n",
    "            retval = np.append(retval,result.item(0))\n",
    "        else:\n",
    "            retval = np.array([result.item(0)])\n",
    "    \n",
    "    # Return the result(s)\n",
    "    return retval"
   ]
  },
  {
   "cell_type": "markdown",
   "metadata": {},
   "source": [
    "# WORKING OF MODELS ON SAMPLE VALUES"
   ]
  },
  {
   "cell_type": "code",
   "execution_count": 11,
   "metadata": {},
   "outputs": [
    {
     "name": "stdout",
     "output_type": "stream",
     "text": [
      "True value for Y :  [12 20]\n",
      "\n",
      "\n",
      "Linear Y predict:  [11.88880 15.55542]\n",
      "Polynomial Y predict:  [11.98725 19.99571]\n",
      "RBF Y predict:  [12.79741 17.92696]\n"
     ]
    }
   ],
   "source": [
    "# this is a multiplication operation on two-dimensional input\n",
    "# i.e., y = x0 * x1\n",
    "mlinput = np.array([[2,3], [2,4], [3,5]]) # x_train\n",
    "mloutput = np.array([6, 8, 15]) # y_train\n",
    "mltest = np.array([[3,4],[4,5]]) # x_test\n",
    "testtruth = np.array([12,20]) # the real/correct y value of x_test\n",
    "print 'True value for Y : ',testtruth\n",
    "print '\\n'\n",
    "\n",
    "#hyperparameters\n",
    "lmbdas = [1e-5, 1e-4, 1e-3, 1e-2, 1e-1, 1.0]\n",
    "alphas = [1, 2, 3, 4, 5]\n",
    "polys = [-1, 0, 0.5, 1, 2]\n",
    "sgmas = [1e-5, 1e-4, 1e-3, 0.01, 0.1, 1, 3]\n",
    "\n",
    "#Linear Kernelized Ridge Regression\n",
    "result = ridge_reg(mlinput,mloutput,mltest,testtruth,'linear',lmbdas)\n",
    "result = result[result[:, 1].argsort()] # sort based on MSE\n",
    "best_linear_lambda = result[0,0] # grab the best parameters\n",
    "print 'Linear Y predict: ',simplekrr(mlinput,mloutput,mltest,ktype='linear',lambdaval=best_linear_lambda)\n",
    "\n",
    "#Polynomial Kernelized Ridge Regression\n",
    "result = ridge_reg(mlinput,mloutput,mltest,testtruth,'poly',lmbdas,sigmavals=[],alphavals=alphas,polyvals=polys)\n",
    "result = result[result[:, 3].argsort()] # sort based on MSE\n",
    "best_poly_lambda = result[0,0]\n",
    "best_poly_alpha = result[0,1]\n",
    "best_poly_degree = result[0,2]\n",
    "print'Polynomial Y predict: ',simplekrr(mlinput,mloutput,mltest,ktype='poly',lambdaval=best_poly_lambda,\n",
    "                              alphaval=best_poly_alpha,poly_degree=best_poly_degree)\n",
    "\n",
    "#RBF Kernelized Ridge Regression\n",
    "result = ridge_reg(mlinput,mloutput,mltest,testtruth,'RBF',lmbdas,sigmavals=sgmas)\n",
    "result = result[result[:, 2].argsort()] # sort based on MSE\n",
    "best_RBF_lambda = result[0,0]\n",
    "best_RBF_sigma = result[0,1]\n",
    "print 'RBF Y predict: ',simplekrr(mlinput,mloutput,mltest,ktype='RBF',lambdaval=best_RBF_lambda,\n",
    "                              sigmaval=best_RBF_sigma)"
   ]
  },
  {
   "cell_type": "markdown",
   "metadata": {},
   "source": [
    "# WORKING OF KERNELS ON RANDOMLY GENERATED TRIVIAL DATASET\n",
    "# 1. Divide testdata into Train(64%), Validate(16%) and Test(20%)\n",
    "# 2. Run Hyper Parameter regression to find the best parameters based on MSE\n",
    "# 3. Find MSE of Model + best param against Test Data\n",
    "# 4. Compare with Scikit Learn MSE to show our code is correct\n",
    "# 5. Plot our model+best param prediction against truth of test data"
   ]
  },
  {
   "cell_type": "code",
   "execution_count": 14,
   "metadata": {},
   "outputs": [],
   "source": [
    "# Generate sample data\n",
    "rng = np.random.RandomState(0)\n",
    "\n",
    "X = 5 * rng.rand(100, 1)\n",
    "Y = np.sin(X).ravel()\n",
    "\n",
    "# Add noise to targets\n",
    "Y[::5] += (0.5 - rng.rand(X.shape[0] // 5))\n",
    "\n",
    "# Split into train/validate and test\n",
    "num_trainval = int(math.floor(X.shape[0] * 0.8))\n",
    "\n",
    "X_test = X[num_trainval : X.shape[0]]\n",
    "Y_test = Y[num_trainval : X.shape[0]]\n",
    "X_trainval = X[:num_trainval]\n",
    "Y_trainval = Y[:num_trainval]"
   ]
  },
  {
   "cell_type": "code",
   "execution_count": 31,
   "metadata": {
    "scrolled": false
   },
   "outputs": [
    {
     "name": "stdout",
     "output_type": "stream",
     "text": [
      "Cross validation\n",
      "Fold:  1\n",
      "Fold:  2\n",
      "Fold:  3\n",
      "Fold:  4\n",
      "Fold:  5\n",
      "Best train/validate linear model parameter (lambda MSE) 1.0   0.380968034463\n",
      "Best train/validate polynomial model parameter (lambda alpha poly MSE) 1e-05   1.0   2.0   0.0593009453488\n",
      "Best train/validate gaussian model parameter (lambda sigma MSE) 1e-05   0.01   0.190734130076\n",
      "\n",
      "Group7 linear kernel MSE against test set:  0.353336288905\n",
      "Group7 polynomial kernel MSE against test set:  0.0365414811061\n",
      "Group7 gaussian kernel MSE against test set:  0.164028567856\n",
      "Scikit linear kernel MSE against test set:  0.353336288905\n",
      "Scikit polynomial kernel MSE against test set:  0.0365414828654\n",
      "Scikit RBF kernel MSE against test set:  0.164029682088\n"
     ]
    },
    {
     "data": {
      "image/png": "[encoded data removed]",
      "text/plain": [
       "<matplotlib.figure.Figure at 0x7fe4bd0cac50>"
      ]
     },
     "metadata": {},
     "output_type": "display_data"
    }
   ],
   "source": [
    "# Initialize hyper parameters\n",
    "lambdas = [1e-5, 1e-4, 1e-3, 1e-2, 1e-1, 1.0]\n",
    "alphas = [1, 2, 3, 4, 5]\n",
    "polys = [-1, 0, 0.5, 1, 2]\n",
    "sigmas = [1e-5, 1e-4, 1e-3, 0.01, 0.1, 1, 3]\n",
    "\n",
    "# Perform 5-fold cross validation on train/validate\n",
    "kf = KFold(n_splits=5)\n",
    "\n",
    "kf.get_n_splits(X_trainval)\n",
    "\n",
    "kfoldstep = 0\n",
    "best_linear_mse = None\n",
    "best_poly_mse = None\n",
    "best_RBF_mse = None\n",
    "print 'Cross validation'\n",
    "\n",
    "for train_idx, validate_idx in kf.split(X_trainval):\n",
    "    kfoldstep += 1\n",
    "    print 'Fold: ',kfoldstep\n",
    "    mlinput, mltest = X_trainval[train_idx], X_trainval[validate_idx]\n",
    "    mloutput, testtruth = Y_trainval[train_idx], Y_trainval[validate_idx]\n",
    "    \n",
    "    #\n",
    "    # Find the best Parameter for each kernel\n",
    "    #\n",
    "\n",
    "    # Linear Kernelized Ridge Regression\n",
    "    result = ridge_reg(mlinput,mloutput,mltest,testtruth,'linear',lmbdas)\n",
    "    result = result[result[:, 1].argsort()] # sort based on MSE\n",
    "    #print 'Fold ',kfoldstep,' lambda mse ',result[0,:]\n",
    "    if (result[0,1] < best_linear_mse) or (best_linear_mse == None) :\n",
    "        best_linear_mse = result[0,1]\n",
    "        best_linear_lambda = result[0,0]\n",
    "    \n",
    "    #Polynomial Kernelized Ridge Regression\n",
    "    result = ridge_reg(mlinput,mloutput,mltest,testtruth,'poly',lmbdas,sigmavals=[],alphavals=alphas,polyvals=polys)\n",
    "    result = result[result[:, 3].argsort()] # sort based on MSE\n",
    "    if (result[0,3] < best_poly_mse) or (best_poly_mse == None) :\n",
    "        best_poly_lambda = result[0,0]\n",
    "        best_poly_alpha = result[0,1]\n",
    "        best_poly_degree = result[0,2]\n",
    "        best_poly_mse = result[0,3]\n",
    "\n",
    "    #RBF Kernelized Ridge Regression\n",
    "    result = ridge_reg(mlinput,mloutput,mltest,testtruth,'RBF',lmbdas,sigmavals=sgmas)\n",
    "    result = result[result[:, 2].argsort()] # sort based on MSE\n",
    "    if (result[0,2] < best_RBF_mse) or (best_RBF_mse == None) :\n",
    "        best_RBF_lambda = result[0,0]\n",
    "        best_RBF_sigma = result[0,1]\n",
    "        best_RBF_mse = result[0,2]\n",
    "\n",
    "# final run against test set and report the MSE\n",
    "Y_test_pred_linear = simplekrr(mlinput,mloutput,X_test,ktype='linear',lambdaval=best_linear_lambda)\n",
    "linear_mse = mean_squared_error(Y_test_pred_linear,Y_test)\n",
    "Y_test_pred_poly = simplekrr(mlinput,mloutput,X_test,ktype='poly',lambdaval=best_poly_lambda,\n",
    "                             alphaval=best_poly_alpha,poly_degree=best_poly_degree)\n",
    "Poly_mse = mean_squared_error(Y_test_pred_poly,Y_test)\n",
    "Y_test_pred_rbf = simplekrr(mlinput,mloutput,X_test,ktype='RBF',lambdaval=best_RBF_lambda,\n",
    "                            sigmaval=best_RBF_sigma)\n",
    "RBF_mse = mean_squared_error(Y_test_pred_rbf,Y_test)\n",
    "\n",
    "print 'Best train/validate linear model parameter (lambda MSE)',best_linear_lambda,' ', best_linear_mse\n",
    "print 'Best train/validate polynomial model parameter (lambda alpha poly MSE)',best_poly_lambda,' ',best_poly_alpha,' ',best_poly_degree,' ',best_poly_mse\n",
    "print 'Best train/validate gaussian model parameter (lambda sigma MSE)',best_RBF_lambda,' ',best_RBF_sigma,' ',best_RBF_mse\n",
    "\n",
    "#\n",
    "# Compare our result against scikit\n",
    "#\n",
    "# linear kernel\n",
    "clf = KernelRidge(kernel='linear',alpha=best_linear_lambda)\n",
    "clf.fit(mlinput, mloutput)\n",
    "Y_test_pred_linear_scikit = clf.predict(X_test)\n",
    "scikit_linear_mse = mean_squared_error(Y_test_pred_linear_scikit,Y_test)\n",
    "# polynomial kernel\n",
    "clf = KernelRidge(kernel='polynomial',alpha=best_poly_lambda,coef0=best_poly_alpha, degree=best_poly_degree)\n",
    "clf.fit(mlinput, mloutput)\n",
    "Y_test_pred_poly_scikit = clf.predict(X_test)\n",
    "scikit_poly_mse = mean_squared_error(Y_test_pred_poly_scikit,Y_test)\n",
    "# rbf kernel\n",
    "scikitgamma = 1/(2*(best_RBF_sigma**2))\n",
    "clf = KernelRidge(kernel='rbf',alpha=best_RBF_lambda,gamma=scikitgamma)\n",
    "clf.fit(mlinput, mloutput)\n",
    "Y_test_pred_gauss_scikit = clf.predict(X_test)\n",
    "scikit_RBF_mse = mean_squared_error(Y_test_pred_gauss_scikit,Y_test)\n",
    "\n",
    "\n",
    "print '\\nGroup7 linear kernel MSE against test set: ',linear_mse\n",
    "print 'Group7 polynomial kernel MSE against test set: ',Poly_mse\n",
    "print 'Group7 gaussian kernel MSE against test set: ',RBF_mse\n",
    "print 'Scikit linear kernel MSE against test set: ',scikit_linear_mse\n",
    "print 'Scikit polynomial kernel MSE against test set: ',scikit_poly_mse\n",
    "print 'Scikit RBF kernel MSE against test set: ',scikit_RBF_mse\n",
    "\n",
    "# Plot\n",
    "Xplot, Yplot = zip(*sorted(zip(X_test, Y_test_pred_poly)))\n",
    "plt.plot(Xplot,Yplot, 'o-', color=\"y\" , label=\"polynomial kernel\")\n",
    "Xplot, Yplot = zip(*sorted(zip(X_test, Y_test_pred_linear)))\n",
    "plt.plot(Xplot,Yplot, 'o-', color=\"g\" , label=\"linear kernel\")\n",
    "Xplot, Yplot = zip(*sorted(zip(X_test, Y_test_pred_rbf)))\n",
    "plt.plot(Xplot,Yplot, 'o-', color=\"b\" , label=\"RBF kernel\")\n",
    "Xplot, Yplot = zip(*sorted(zip(X_test, Y_test)))\n",
    "plt.plot(Xplot,Yplot, 'o-', color=\"r\" , label=\"truth\")\n",
    "\n",
    "plt.xscale(\"linear\")\n",
    "plt.yscale(\"linear\")\n",
    "plt.xlabel(\"X\")\n",
    "plt.ylabel(\"Y (value)\")\n",
    "plt.title('Prediction vs Truth')\n",
    "plt.legend(loc=\"best\")\n",
    "\n",
    "plt.show()\n",
    "\n",
    "# clear the plot\n",
    "plt.clf()\n",
    "plt.cla()\n",
    "plt.close()\n"
   ]
  },
  {
   "cell_type": "markdown",
   "metadata": {},
   "source": [
    "# WORKING OF KERNELS ON STOCK_DATASET"
   ]
  },
  {
   "cell_type": "code",
   "execution_count": 32,
   "metadata": {},
   "outputs": [],
   "source": [
    "X = np.ones([63, 7], dtype = np.float64)\n",
    "Y = np.ones([63], dtype = np.float64)"
   ]
  },
  {
   "cell_type": "code",
   "execution_count": 33,
   "metadata": {},
   "outputs": [
    {
     "name": "stdout",
     "output_type": "stream",
     "text": [
      "[1.00000 0.33300 0.00000 0.33300 0.33300 0.00000 0.00000]\n",
      "0.164\n"
     ]
    }
   ],
   "source": [
    "rowNum = 0\n",
    "with open('stock_portfolio_performance_data_set.csv') as csvDataFile:\n",
    "    csvReader = csv.reader(csvDataFile)\n",
    "    for row in csvReader:\n",
    "        if rowNum == 0:\n",
    "            rowNum += 1\n",
    "        else:\n",
    "            col = 0\n",
    "            colNum = 0\n",
    "            for col in row:\n",
    "                if colNum != 6:\n",
    "                    X[rowNum - 1, colNum + 1] = col\n",
    "                else:\n",
    "                    Y[rowNum - 1] = col\n",
    "                colNum += 1\n",
    "            rowNum += 1\n",
    "\n",
    "print (X[23,:])\n",
    "print (Y[23])"
   ]
  },
  {
   "cell_type": "code",
   "execution_count": 34,
   "metadata": {},
   "outputs": [],
   "source": [
    "# Split into train/validate and test\n",
    "num_trainval = int(math.floor(X.shape[0] * 0.8))\n",
    "\n",
    "X_test = X[num_trainval : X.shape[0]]\n",
    "Y_test = Y[num_trainval : X.shape[0]]\n",
    "X_trainval = X[:num_trainval]\n",
    "Y_trainval = Y[:num_trainval]"
   ]
  },
  {
   "cell_type": "code",
   "execution_count": 35,
   "metadata": {},
   "outputs": [],
   "source": [
    "# hyper parameters\n",
    "lambdas = [1e-5, 1e-4, 1e-3, 1e-2, 1e-1, 1.0]\n",
    "alphas = [1, 2, 3, 4, 5]\n",
    "polys = [-1, 0, 0.5, 1, 2]\n",
    "sigmas = [1e-5, 1e-4, 1e-3, 0.01, 0.1, 1, 3]\n",
    "\n",
    "best_linear_mse = None\n",
    "best_poly_mse = None\n",
    "best_RBF_mse = None"
   ]
  },
  {
   "cell_type": "code",
   "execution_count": 36,
   "metadata": {},
   "outputs": [
    {
     "name": "stdout",
     "output_type": "stream",
     "text": [
      "Cross validation\n",
      "Fold:  1\n",
      "Fold:  2\n",
      "Fold:  3\n",
      "Fold:  4\n",
      "Fold:  5\n",
      "Best lambda is :  1e-05\n",
      "\n",
      "Final linear kernel MSE against test set:  0.000510426178768\n"
     ]
    }
   ],
   "source": [
    "# Perform 5-fold cross validation on train/validate\n",
    "kf = KFold(n_splits=5)\n",
    "\n",
    "kf.get_n_splits(X_trainval)\n",
    "\n",
    "kfoldstep = 0\n",
    "print 'Cross validation'\n",
    "\n",
    "for train_idx, validate_idx in kf.split(X_trainval):\n",
    "    kfoldstep += 1\n",
    "    print 'Fold: ',kfoldstep\n",
    "    mlinput, mltest = X_trainval[train_idx], X_trainval[validate_idx]\n",
    "    mloutput, testtruth = Y_trainval[train_idx], Y_trainval[validate_idx]\n",
    "    \n",
    "    # Linear Kernelized Ridge Regression\n",
    "    result = ridge_reg(mlinput,mloutput,mltest,testtruth,'linear',lmbdas)\n",
    "    result = result[result[:, 1].argsort()] # sort based on MSE\n",
    "    if (result[0,1] < best_linear_mse) or (best_linear_mse == None) :\n",
    "        best_linear_mse = result[0,1]\n",
    "        best_linear_lambda = result[0,0]\n",
    "    \n",
    "# final run against test set and report the MSE\n",
    "Y_test_pred = simplekrr(mlinput,mloutput,X_test,ktype='linear',lambdaval=best_linear_lambda)\n",
    "linear_mse = mean_squared_error(Y_test_pred,Y_test)\n",
    "\n",
    "print 'Best lambda is : ', best_linear_lambda\n",
    "print '\\nFinal linear kernel MSE against test set: ',linear_mse"
   ]
  },
  {
   "cell_type": "code",
   "execution_count": 37,
   "metadata": {},
   "outputs": [
    {
     "name": "stdout",
     "output_type": "stream",
     "text": [
      "Cross validation\n",
      "Fold:  1\n",
      "Fold:  2\n",
      "Fold:  3\n",
      "Fold:  4\n",
      "Fold:  5\n",
      "Best lambda :  0.0001\n",
      "Best r :  1.0\n",
      "Best M :  2.0\n",
      "\n",
      "Final Polynomial kernel MSE against test set:  8.53074076464e-05\n"
     ]
    }
   ],
   "source": [
    "# Perform 5-fold cross validation on train/validate\n",
    "kf = KFold(n_splits=5)\n",
    "\n",
    "kf.get_n_splits(X_trainval)\n",
    "\n",
    "kfoldstep = 0\n",
    "print 'Cross validation'\n",
    "\n",
    "for train_idx, validate_idx in kf.split(X_trainval):\n",
    "    kfoldstep += 1\n",
    "    print 'Fold: ',kfoldstep\n",
    "    mlinput, mltest = X_trainval[train_idx], X_trainval[validate_idx]\n",
    "    mloutput, testtruth = Y_trainval[train_idx], Y_trainval[validate_idx]\n",
    "    \n",
    "    #Polynomial Kernelized Ridge Regression\n",
    "    result = ridge_reg(mlinput,mloutput,mltest,testtruth,'poly',lmbdas,sigmavals=[],alphavals=alphas,polyvals=polys)\n",
    "    result = result[result[:, 3].argsort()] # sort based on MSE\n",
    "    if (result[0,3] < best_poly_mse) or (best_poly_mse == None) :\n",
    "        best_poly_lambda = result[0,0]\n",
    "        best_poly_alpha = result[0,1]\n",
    "        best_poly_degree = result[0,2]\n",
    "        best_poly_mse = result[0,3]\n",
    "\n",
    "# final run against test set and report the MSE\n",
    "Y_test_pred = simplekrr(mlinput,mloutput,X_test,ktype='poly',lambdaval=best_poly_lambda,\n",
    "                        alphaval=best_poly_alpha,poly_degree=best_poly_degree)\n",
    "Poly_mse = mean_squared_error(Y_test_pred,Y_test)\n",
    "print 'Best lambda : ',best_poly_lambda\n",
    "print 'Best r : ', best_poly_alpha\n",
    "print 'Best M : ', best_poly_degree\n",
    "print '\\nFinal Polynomial kernel MSE against test set: ',Poly_mse"
   ]
  },
  {
   "cell_type": "code",
   "execution_count": 38,
   "metadata": {},
   "outputs": [
    {
     "name": "stdout",
     "output_type": "stream",
     "text": [
      "Cross validation\n",
      "Fold:  1\n",
      "Fold:  2\n",
      "Fold:  3\n",
      "Fold:  4\n",
      "Fold:  5\n",
      "Best lambda :  0.1\n",
      "Best sigma :  1.0\n",
      "\n",
      "Final RBF kernel MSE against test set:  3.99012261199e-05\n"
     ]
    }
   ],
   "source": [
    "# Perform 5-fold cross validation on train/validate\n",
    "kf = KFold(n_splits=5)\n",
    "\n",
    "kf.get_n_splits(X_trainval)\n",
    "\n",
    "kfoldstep = 0\n",
    "print 'Cross validation'\n",
    "\n",
    "for train_idx, validate_idx in kf.split(X_trainval):\n",
    "    kfoldstep += 1\n",
    "    print 'Fold: ',kfoldstep\n",
    "    mlinput, mltest = X_trainval[train_idx], X_trainval[validate_idx]\n",
    "    mloutput, testtruth = Y_trainval[train_idx], Y_trainval[validate_idx]\n",
    "    \n",
    "    #RBF Kernelized Ridge Regression\n",
    "    result = ridge_reg(mlinput,mloutput,mltest,testtruth,'RBF',lmbdas,sigmavals=sgmas)\n",
    "    result = result[result[:, 2].argsort()] # sort based on MSE\n",
    "    if (result[0,2] < best_RBF_mse) or (best_RBF_mse == None) :\n",
    "        best_RBF_lambda = result[0,0]\n",
    "        best_RBF_sigma = result[0,1]\n",
    "        best_RBF_mse = result[0,2]\n",
    "    \n",
    "# final run against test set and report the MSE\n",
    "Y_test_pred = simplekrr(mlinput,mloutput,X_test,ktype='RBF',lambdaval=best_RBF_lambda,\n",
    "                        sigmaval=best_RBF_sigma)\n",
    "RBF_mse = mean_squared_error(Y_test_pred,Y_test)\n",
    "print 'Best lambda : ', best_RBF_lambda\n",
    "print 'Best sigma : ', best_RBF_sigma\n",
    "\n",
    "print '\\nFinal RBF kernel MSE against test set: ',RBF_mse"
   ]
  },
  {
   "cell_type": "code",
   "execution_count": 39,
   "metadata": {},
   "outputs": [
    {
     "name": "stdout",
     "output_type": "stream",
     "text": [
      "BEST MSE Score :  3.99012261199e-05 \n",
      "RBF[Gaussian] kernel is the better kernel of the three\n"
     ]
    }
   ],
   "source": [
    "print 'BEST MSE Score : ', RBF_mse, '\\nRBF[Gaussian] kernel is the better kernel of the three'"
   ]
  },
  {
   "cell_type": "code",
   "execution_count": 40,
   "metadata": {},
   "outputs": [
    {
     "name": "stdout",
     "output_type": "stream",
     "text": [
      "\n",
      "Group7 linear kernel MSE against test set:  0.000510426178768\n",
      "Group7 polynomial kernel MSE against test set:  8.53074076464e-05\n",
      "Group7 gaussian kernel MSE against test set:  3.99012261199e-05\n",
      "Scikit linear kernel MSE against test set:  0.000510426178968\n",
      "Scikit polynomial kernel MSE against test set:  8.66898093262e-05\n",
      "Scikit RBF kernel MSE against test set:  3.93821741036e-05\n"
     ]
    }
   ],
   "source": [
    "#\n",
    "# Compare our result against scikit\n",
    "#\n",
    "# linear kernel\n",
    "clf = KernelRidge(kernel='linear',alpha=best_linear_lambda)\n",
    "clf.fit(mlinput, mloutput)\n",
    "Y_test_pred_linear_scikit = clf.predict(X_test)\n",
    "scikit_linear_mse = mean_squared_error(Y_test_pred_linear_scikit,Y_test)\n",
    "# polynomial kernel\n",
    "clf = KernelRidge(kernel='polynomial',alpha=best_poly_lambda,coef0=best_poly_alpha, degree=best_poly_degree)\n",
    "clf.fit(mlinput, mloutput)\n",
    "Y_test_pred_poly_scikit = clf.predict(X_test)\n",
    "scikit_poly_mse = mean_squared_error(Y_test_pred_poly_scikit,Y_test)\n",
    "# rbf kernel\n",
    "scikitgamma = 1/(2*(best_RBF_sigma**2))\n",
    "clf = KernelRidge(kernel='rbf',alpha=best_RBF_lambda,gamma=scikitgamma)\n",
    "clf.fit(mlinput, mloutput)\n",
    "Y_test_pred_gauss_scikit = clf.predict(X_test)\n",
    "scikit_RBF_mse = mean_squared_error(Y_test_pred_gauss_scikit,Y_test)\n",
    "\n",
    "print '\\nGroup7 linear kernel MSE against test set: ',linear_mse\n",
    "print 'Group7 polynomial kernel MSE against test set: ',Poly_mse\n",
    "print 'Group7 gaussian kernel MSE against test set: ',RBF_mse\n",
    "print 'Scikit linear kernel MSE against test set: ',scikit_linear_mse\n",
    "print 'Scikit polynomial kernel MSE against test set: ',scikit_poly_mse\n",
    "print 'Scikit RBF kernel MSE against test set: ',scikit_RBF_mse"
   ]
  }
 ],
 "metadata": {
  "kernelspec": {
   "display_name": "Python 2",
   "language": "python",
   "name": "python2"
  },
  "language_info": {
   "codemirror_mode": {
    "name": "ipython",
    "version": 2
   },
   "file_extension": ".py",
   "mimetype": "text/x-python",
   "name": "python",
   "nbconvert_exporter": "python",
   "pygments_lexer": "ipython2",
   "version": "2.7.12"
  }
 },
 "nbformat": 4,
 "nbformat_minor": 2
}
